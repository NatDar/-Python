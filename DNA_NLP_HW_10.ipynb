{
  "nbformat": 4,
  "nbformat_minor": 0,
  "metadata": {
    "accelerator": "GPU",
    "colab": {
      "provenance": [],
      "include_colab_link": true
    },
    "kernelspec": {
      "display_name": "Python 3",
      "name": "python3"
    }
  },
  "cells": [
    {
      "cell_type": "markdown",
      "metadata": {
        "id": "view-in-github",
        "colab_type": "text"
      },
      "source": [
        "<a href=\"https://colab.research.google.com/github/NatDar/-Python/blob/main/DNA_NLP_HW_10.ipynb\" target=\"_parent\"><img src=\"https://colab.research.google.com/assets/colab-badge.svg\" alt=\"Open In Colab\"/></a>"
      ]
    },
    {
      "cell_type": "markdown",
      "source": [
        "## ДЗ  \n",
        "Разобраться с моделькой перевода (без механизма внимания) как она устроена, запустить для перевода с русского на английский (при желании можно взять другие пары языков)"
      ],
      "metadata": {
        "id": "4sbtjVDVvSzO"
      }
    },
    {
      "cell_type": "markdown",
      "metadata": {
        "id": "J0Qjg6vuaHNt"
      },
      "source": [
        "# Neural machine translation"
      ]
    },
    {
      "cell_type": "code",
      "metadata": {
        "id": "tnxXKDjq3jEL"
      },
      "source": [
        "import tensorflow as tf\n",
        "\n",
        "import matplotlib.pyplot as plt\n",
        "import matplotlib.ticker as ticker\n",
        "from sklearn.model_selection import train_test_split\n",
        "\n",
        "import unicodedata\n",
        "import re\n",
        "import numpy as np\n",
        "import os\n",
        "import io\n",
        "import time"
      ],
      "execution_count": 1,
      "outputs": []
    },
    {
      "cell_type": "markdown",
      "metadata": {
        "id": "wfodePkj3jEa"
      },
      "source": [
        "## Download and prepare the dataset\n",
        "\n",
        "We'll use a language dataset provided by http://www.manythings.org/anki/"
      ]
    },
    {
      "cell_type": "code",
      "metadata": {
        "id": "CNvjhDyAKk3U",
        "colab": {
          "base_uri": "https://localhost:8080/"
        },
        "outputId": "9747695b-a32b-414e-bca6-2107a1501d1a"
      },
      "source": [
        "!wget http://www.manythings.org/anki/rus-eng.zip"
      ],
      "execution_count": 2,
      "outputs": [
        {
          "output_type": "stream",
          "name": "stdout",
          "text": [
            "--2023-11-28 08:16:56--  http://www.manythings.org/anki/rus-eng.zip\n",
            "Resolving www.manythings.org (www.manythings.org)... 173.254.30.110\n",
            "Connecting to www.manythings.org (www.manythings.org)|173.254.30.110|:80... connected.\n",
            "HTTP request sent, awaiting response... 200 OK\n",
            "Length: 15824155 (15M) [application/zip]\n",
            "Saving to: ‘rus-eng.zip’\n",
            "\n",
            "rus-eng.zip         100%[===================>]  15.09M  57.7MB/s    in 0.3s    \n",
            "\n",
            "2023-11-28 08:16:56 (57.7 MB/s) - ‘rus-eng.zip’ saved [15824155/15824155]\n",
            "\n"
          ]
        }
      ]
    },
    {
      "cell_type": "code",
      "metadata": {
        "id": "83bg17Lr-7XK",
        "colab": {
          "base_uri": "https://localhost:8080/"
        },
        "outputId": "5edd86f6-986a-4700-e6a3-d00c8fcd6acc"
      },
      "source": [
        "!mkdir rus-eng\n",
        "!unzip rus-eng.zip -d rus-eng/"
      ],
      "execution_count": 3,
      "outputs": [
        {
          "output_type": "stream",
          "name": "stdout",
          "text": [
            "Archive:  rus-eng.zip\n",
            "  inflating: rus-eng/rus.txt         \n",
            "  inflating: rus-eng/_about.txt      \n"
          ]
        }
      ]
    },
    {
      "cell_type": "code",
      "metadata": {
        "id": "7o5L92efMMhf",
        "colab": {
          "base_uri": "https://localhost:8080/"
        },
        "outputId": "517ae431-b67d-4ba4-bbd8-12c88a96e502"
      },
      "source": [
        "!ls /content/rus-eng/ -lah"
      ],
      "execution_count": 4,
      "outputs": [
        {
          "output_type": "stream",
          "name": "stdout",
          "text": [
            "total 76M\n",
            "drwxr-xr-x 2 root root 4.0K Nov 28 08:17 .\n",
            "drwxr-xr-x 1 root root 4.0K Nov 28 08:17 ..\n",
            "-rw-r--r-- 1 root root 1.5K Jul 30 03:53 _about.txt\n",
            "-rw-r--r-- 1 root root  76M Jul 30 03:53 rus.txt\n"
          ]
        }
      ]
    },
    {
      "cell_type": "code",
      "metadata": {
        "id": "kRVATYOgJs1b"
      },
      "source": [
        "# Download the file\n",
        "path_to_file = \"/content/rus-eng/rus.txt\""
      ],
      "execution_count": 5,
      "outputs": []
    },
    {
      "cell_type": "code",
      "metadata": {
        "id": "rd0jw-eC3jEh"
      },
      "source": [
        "def preprocess_sentence(w):\n",
        "  w = w.lower().strip()\n",
        "\n",
        "  # creating a space between a word and the punctuation following it\n",
        "  # eg: \"he is a boy.\" => \"he is a boy .\"\n",
        "  # Reference:- https://stackoverflow.com/questions/3645931/python-padding-punctuation-with-white-spaces-keeping-punctuation\n",
        "  w = re.sub(r\"([?.!,])\", r\" \\1 \", w)\n",
        "  w = re.sub(r'[\" \"]+', \" \", w)\n",
        "\n",
        "  # replacing everything with space except (a-z, A-Z, \".\", \"?\", \"!\", \",\")\n",
        "  w = re.sub(r\"[^a-zA-Zа-яА-Я?.!,']+\", \" \", w)\n",
        "\n",
        "  w = w.strip()\n",
        "\n",
        "  # adding a start and an end token to the sentence\n",
        "  # so that the model know when to start and stop predicting.\n",
        "  w = '<start> ' + w + ' <end>'\n",
        "  return w"
      ],
      "execution_count": 6,
      "outputs": []
    },
    {
      "cell_type": "code",
      "metadata": {
        "id": "yV9lZXQXNbnH",
        "colab": {
          "base_uri": "https://localhost:8080/",
          "height": 36
        },
        "outputId": "b97c3dcf-fa2f-4ad0-be83-8186255143d8"
      },
      "source": [
        "preprocess_sentence(\"I can't go.\")"
      ],
      "execution_count": 7,
      "outputs": [
        {
          "output_type": "execute_result",
          "data": {
            "text/plain": [
              "\"<start> i can't go . <end>\""
            ],
            "application/vnd.google.colaboratory.intrinsic+json": {
              "type": "string"
            }
          },
          "metadata": {},
          "execution_count": 7
        }
      ]
    },
    {
      "cell_type": "code",
      "metadata": {
        "id": "OHn4Dct23jEm"
      },
      "source": [
        "# 1. Remove the accents\n",
        "# 2. Clean the sentences\n",
        "# 3. Return word pairs in the format: [ENG, RUS]\n",
        "def create_dataset(path, num_examples):\n",
        "  lines = io.open(path, encoding='UTF-8').read().strip().split('\\n')\n",
        "\n",
        "  word_pairs = [[preprocess_sentence(w) for w in l.split('\\t')[:2]]  for l in lines[:num_examples]]\n",
        "\n",
        "  return zip(*word_pairs)"
      ],
      "execution_count": 8,
      "outputs": []
    },
    {
      "cell_type": "code",
      "metadata": {
        "id": "cTbSbBz55QtF",
        "colab": {
          "base_uri": "https://localhost:8080/"
        },
        "outputId": "60ec83ba-c63d-4666-d9c4-e1d6190ee1ac"
      },
      "source": [
        "en, ru = create_dataset(path_to_file, None)\n",
        "print(en[0])\n",
        "print(ru[0])"
      ],
      "execution_count": 9,
      "outputs": [
        {
          "output_type": "stream",
          "name": "stdout",
          "text": [
            "<start> go . <end>\n",
            "<start> марш ! <end>\n"
          ]
        }
      ]
    },
    {
      "cell_type": "code",
      "metadata": {
        "id": "bIOn8RCNDJXG"
      },
      "source": [
        "def tokenize(lang):\n",
        "  lang_tokenizer = tf.keras.preprocessing.text.Tokenizer(\n",
        "      filters='')\n",
        "  lang_tokenizer.fit_on_texts(lang)\n",
        "\n",
        "  tensor = lang_tokenizer.texts_to_sequences(lang)\n",
        "\n",
        "  tensor = tf.keras.preprocessing.sequence.pad_sequences(tensor,\n",
        "                                                         padding='post')\n",
        "\n",
        "  return tensor, lang_tokenizer"
      ],
      "execution_count": 10,
      "outputs": []
    },
    {
      "cell_type": "code",
      "metadata": {
        "id": "eAY9k49G3jE_"
      },
      "source": [
        "def load_dataset(path, num_examples=None):\n",
        "  # creating cleaned input, output pairs\n",
        "  targ_lang, inp_lang = create_dataset(path, num_examples)\n",
        "\n",
        "  input_tensor, inp_lang_tokenizer = tokenize(inp_lang)\n",
        "  target_tensor, targ_lang_tokenizer = tokenize(targ_lang)\n",
        "\n",
        "  return input_tensor, target_tensor, inp_lang_tokenizer, targ_lang_tokenizer"
      ],
      "execution_count": 11,
      "outputs": []
    },
    {
      "cell_type": "markdown",
      "metadata": {
        "id": "GOi42V79Ydlr"
      },
      "source": [
        "### Limit the size of the dataset to experiment faster (optional)\n"
      ]
    },
    {
      "cell_type": "code",
      "metadata": {
        "id": "C8j9g9AnIeZV",
        "colab": {
          "base_uri": "https://localhost:8080/"
        },
        "outputId": "aad73eaa-da94-4b8e-9082-2fe1d290d8ba"
      },
      "source": [
        "len(en), len(ru)"
      ],
      "execution_count": 12,
      "outputs": [
        {
          "output_type": "execute_result",
          "data": {
            "text/plain": [
              "(479223, 479223)"
            ]
          },
          "metadata": {},
          "execution_count": 12
        }
      ]
    },
    {
      "cell_type": "code",
      "metadata": {
        "id": "cnxC7q-j3jFD"
      },
      "source": [
        "# Try experimenting with the size of that dataset\n",
        "num_examples = 100000\n",
        "input_tensor, target_tensor, inp_lang, targ_lang = load_dataset(path_to_file, num_examples)\n",
        "\n",
        "# Calculate max_length of the target tensors\n",
        "max_length_targ, max_length_inp = target_tensor.shape[1], input_tensor.shape[1]"
      ],
      "execution_count": 13,
      "outputs": []
    },
    {
      "cell_type": "code",
      "metadata": {
        "id": "4QILQkOs3jFG",
        "colab": {
          "base_uri": "https://localhost:8080/"
        },
        "outputId": "ff94821f-56a3-421e-bb85-0bcaadfa4828"
      },
      "source": [
        "# Creating training and validation sets using an 80-20 split\n",
        "input_tensor_train, input_tensor_val, target_tensor_train, target_tensor_val = train_test_split(input_tensor, target_tensor, test_size=0.2)\n",
        "\n",
        "# Show length\n",
        "print(len(input_tensor_train), len(target_tensor_train), len(input_tensor_val), len(target_tensor_val))"
      ],
      "execution_count": 14,
      "outputs": [
        {
          "output_type": "stream",
          "name": "stdout",
          "text": [
            "80000 80000 20000 20000\n"
          ]
        }
      ]
    },
    {
      "cell_type": "code",
      "metadata": {
        "id": "lJPmLZGMeD5q"
      },
      "source": [
        "def convert(lang, tensor):\n",
        "  for t in tensor:\n",
        "    if t!=0:\n",
        "      print (\"%d ----> %s\" % (t, lang.index_word[t]))"
      ],
      "execution_count": 15,
      "outputs": []
    },
    {
      "cell_type": "code",
      "metadata": {
        "id": "VXukARTDd7MT",
        "colab": {
          "base_uri": "https://localhost:8080/"
        },
        "outputId": "62c32770-15f1-4e03-e709-65f0dd3e4c27"
      },
      "source": [
        "print (\"Input Language; index to word mapping\")\n",
        "convert(inp_lang, input_tensor_train[0])\n",
        "print ()\n",
        "print (\"Target Language; index to word mapping\")\n",
        "convert(targ_lang, target_tensor_train[0])"
      ],
      "execution_count": 16,
      "outputs": [
        {
          "output_type": "stream",
          "name": "stdout",
          "text": [
            "Input Language; index to word mapping\n",
            "1 ----> <start>\n",
            "12 ----> вы\n",
            "156 ----> должны\n",
            "5766 ----> лежать\n",
            "766 ----> спокойно\n",
            "3 ----> .\n",
            "2 ----> <end>\n",
            "\n",
            "Target Language; index to word mapping\n",
            "1 ----> <start>\n",
            "7 ----> you\n",
            "109 ----> must\n",
            "251 ----> lie\n",
            "102 ----> still\n",
            "3 ----> .\n",
            "2 ----> <end>\n"
          ]
        }
      ]
    },
    {
      "cell_type": "markdown",
      "metadata": {
        "id": "rgCLkfv5uO3d"
      },
      "source": [
        "### Create a tf.data dataset"
      ]
    },
    {
      "cell_type": "code",
      "metadata": {
        "id": "TqHsArVZ3jFS"
      },
      "source": [
        "BUFFER_SIZE = len(input_tensor_train)\n",
        "BATCH_SIZE = 64\n",
        "steps_per_epoch = len(input_tensor_train)//BATCH_SIZE\n",
        "embedding_dim = 300\n",
        "units = 1024\n",
        "vocab_inp_size = len(inp_lang.word_index)+1\n",
        "vocab_tar_size = len(targ_lang.word_index)+1\n",
        "\n",
        "dataset = tf.data.Dataset.from_tensor_slices((input_tensor_train, target_tensor_train)).shuffle(BUFFER_SIZE)\n",
        "dataset = dataset.batch(BATCH_SIZE, drop_remainder=True)"
      ],
      "execution_count": 17,
      "outputs": []
    },
    {
      "cell_type": "code",
      "metadata": {
        "id": "qc6-NK1GtWQt",
        "colab": {
          "base_uri": "https://localhost:8080/"
        },
        "outputId": "1452df93-209c-46f9-cca3-473b0ad021f1"
      },
      "source": [
        "example_input_batch, example_target_batch = next(iter(dataset))\n",
        "example_input_batch.shape, example_target_batch.shape"
      ],
      "execution_count": 18,
      "outputs": [
        {
          "output_type": "execute_result",
          "data": {
            "text/plain": [
              "(TensorShape([64, 15]), TensorShape([64, 11]))"
            ]
          },
          "metadata": {},
          "execution_count": 18
        }
      ]
    },
    {
      "cell_type": "markdown",
      "source": [
        "**Для эксперимента возьму двунаправленный слой GRU**"
      ],
      "metadata": {
        "id": "68zZxRZCveW5"
      }
    },
    {
      "cell_type": "code",
      "source": [
        "from keras.layers import GRU, Concatenate"
      ],
      "metadata": {
        "id": "x3EfyzA6glQm"
      },
      "execution_count": 19,
      "outputs": []
    },
    {
      "cell_type": "code",
      "metadata": {
        "id": "nZ2rI24i3jFg"
      },
      "source": [
        "class Encoder(tf.keras.Model):\n",
        "  def __init__(self, vocab_size, embedding_dim, enc_units, batch_sz):\n",
        "    super(Encoder, self).__init__()\n",
        "    self.batch_sz = batch_sz\n",
        "    self.enc_units = enc_units\n",
        "    self.embedding = tf.keras.layers.Embedding(vocab_size, embedding_dim)\n",
        "    self.gru = tf.keras.layers.Bidirectional(GRU(self.enc_units,\n",
        "                                   return_sequences=False,\n",
        "                                   return_state=True,\n",
        "                                   recurrent_initializer='glorot_uniform'))\n",
        "\n",
        "\n",
        "  def call(self, x, hidden):\n",
        "    x = self.embedding(x)\n",
        "    output, state_frw, state_bcw = self.gru(x, initial_state = hidden)\n",
        "    return state_frw, state_bcw\n",
        "\n",
        "  # def initialize_hidden_state(self):\n",
        "  #   return tf.zeros((self.batch_sz, self.enc_units))\n",
        "\n",
        "  def initialize_hidden_state(self):\n",
        "      return [tf.zeros((self.batch_sz, self.enc_units)) for i in range(2)]"
      ],
      "execution_count": 20,
      "outputs": []
    },
    {
      "cell_type": "code",
      "source": [
        "encoder = Encoder(vocab_inp_size, embedding_dim, units, BATCH_SIZE)\n",
        "# sample input\n",
        "encoder = Encoder(vocab_inp_size, embedding_dim, units, BATCH_SIZE)\n",
        "sample_hidden = encoder.initialize_hidden_state()\n",
        "forward_hidden, backward_hidden = encoder(example_input_batch, sample_hidden)\n",
        "print('Encoder forward_h shape: (batch size, units) {}'.format(forward_hidden.shape))\n",
        "print('Encoder backward_h shape: (batch size, units) {}'.format(backward_hidden.shape))\n"
      ],
      "metadata": {
        "colab": {
          "base_uri": "https://localhost:8080/"
        },
        "id": "vKHA_t1KkZkV",
        "outputId": "d14d4eea-06a4-4272-bd0f-12790efdc2c4"
      },
      "execution_count": 21,
      "outputs": [
        {
          "output_type": "stream",
          "name": "stdout",
          "text": [
            "Encoder forward_h shape: (batch size, units) (64, 1024)\n",
            "Encoder backward_h shape: (batch size, units) (64, 1024)\n"
          ]
        }
      ]
    },
    {
      "cell_type": "code",
      "metadata": {
        "id": "yJ_B3mhW3jFk"
      },
      "source": [
        "class Decoder(tf.keras.Model):\n",
        "  def __init__(self, vocab_size, embedding_dim, dec_units, batch_sz):\n",
        "    super(Decoder, self).__init__()\n",
        "    self.batch_sz = batch_sz\n",
        "    self.dec_units = dec_units\n",
        "    self.embedding = tf.keras.layers.Embedding(vocab_size, embedding_dim)\n",
        "    self.gru = tf.keras.layers.GRU(2*self.dec_units,\n",
        "                                   return_sequences=True,\n",
        "                                   return_state=True,\n",
        "                                   recurrent_initializer='glorot_uniform')\n",
        "    self.fc = tf.keras.layers.Dense(vocab_size)\n",
        "\n",
        "  def call(self, x, encoder_fwd_state, encoder_back_state):\n",
        "    # enc_output shape == (batch_size, max_length, hidden_size)\n",
        "\n",
        "    # x shape after passing through embedding == (batch_size, 1, embedding_dim)\n",
        "    x = self.embedding(x)\n",
        "\n",
        "    # x shape after concatenation == (batch_size, 1, embedding_dim + hidden_size)\n",
        "\n",
        "    # passing the concatenated vector to the GRU\n",
        "    output, state = self.gru(x, initial_state=Concatenate(axis=-1)([encoder_fwd_state, encoder_back_state]))\n",
        "\n",
        "    # output shape == (batch_size * 1, hidden_size)\n",
        "    output = tf.reshape(output, (-1, output.shape[2]))\n",
        "\n",
        "    # output shape == (batch_size, vocab)\n",
        "    x = self.fc(output)\n",
        "\n",
        "    return x, state"
      ],
      "execution_count": 22,
      "outputs": []
    },
    {
      "cell_type": "code",
      "metadata": {
        "id": "P5UY8wko3jFp"
      },
      "source": [
        "decoder = Decoder(vocab_tar_size, embedding_dim, units, BATCH_SIZE)\n",
        "\n",
        "decoder_sample_x, decoder_sample_h = decoder(tf.random.uniform((BATCH_SIZE, 1)),\n",
        "                                      forward_hidden, backward_hidden)"
      ],
      "execution_count": 23,
      "outputs": []
    },
    {
      "cell_type": "code",
      "metadata": {
        "colab": {
          "base_uri": "https://localhost:8080/"
        },
        "id": "XKcypC0AGeLR",
        "outputId": "28e613ee-e56a-4f0f-9b17-de52048b0286"
      },
      "source": [
        "decoder_sample_x.shape"
      ],
      "execution_count": 24,
      "outputs": [
        {
          "output_type": "execute_result",
          "data": {
            "text/plain": [
              "TensorShape([64, 7386])"
            ]
          },
          "metadata": {},
          "execution_count": 24
        }
      ]
    },
    {
      "cell_type": "code",
      "metadata": {
        "id": "6y0HF-zMF_vp",
        "colab": {
          "base_uri": "https://localhost:8080/"
        },
        "outputId": "5bab5653-1d42-4ae9-ce7b-ee57a06822af"
      },
      "source": [
        "decoder_sample_h.shape"
      ],
      "execution_count": 25,
      "outputs": [
        {
          "output_type": "execute_result",
          "data": {
            "text/plain": [
              "TensorShape([64, 2048])"
            ]
          },
          "metadata": {},
          "execution_count": 25
        }
      ]
    },
    {
      "cell_type": "markdown",
      "metadata": {
        "id": "_ch_71VbIRfK"
      },
      "source": [
        "## Define the optimizer and the loss function"
      ]
    },
    {
      "cell_type": "code",
      "metadata": {
        "id": "WmTHr5iV3jFr"
      },
      "source": [
        "optimizer = tf.keras.optimizers.Adam()\n",
        "\n",
        "loss_object = tf.keras.losses.SparseCategoricalCrossentropy(\n",
        "    from_logits=True, reduction='none')\n",
        "\n",
        "def loss_function(real, pred):\n",
        "  mask = tf.math.logical_not(tf.math.equal(real, 0))\n",
        "  loss_ = loss_object(real, pred)\n",
        "\n",
        "  mask = tf.cast(mask, dtype=loss_.dtype)\n",
        "  loss_ *= mask\n",
        "\n",
        "  return tf.reduce_mean(loss_)"
      ],
      "execution_count": 26,
      "outputs": []
    },
    {
      "cell_type": "markdown",
      "metadata": {
        "id": "DMVWzzsfNl4e"
      },
      "source": [
        "## Checkpoints (Object-based saving)"
      ]
    },
    {
      "cell_type": "code",
      "metadata": {
        "id": "Zj8bXQTgNwrF"
      },
      "source": [
        "checkpoint_dir = './training_nmt_checkpoints'\n",
        "\n",
        "checkpoint_prefix = os.path.join(checkpoint_dir, \"ckpt\")\n",
        "\n",
        "checkpoint = tf.train.Checkpoint(optimizer=optimizer,\n",
        "                                 encoder=encoder,\n",
        "                                 decoder=decoder)"
      ],
      "execution_count": 27,
      "outputs": []
    },
    {
      "cell_type": "code",
      "metadata": {
        "id": "sC9ArXSsVfqn"
      },
      "source": [
        "@tf.function\n",
        "def train_step(inp, targ, enc_hidden):\n",
        "  loss = 0\n",
        "\n",
        "  with tf.GradientTape() as tape:\n",
        "    enc_hidden = encoder(inp, enc_hidden)\n",
        "\n",
        "    forward_hidden, backward_hidden = enc_hidden\n",
        "\n",
        "    dec_input = tf.expand_dims([targ_lang.word_index['<start>']] * BATCH_SIZE, 1)\n",
        "\n",
        "    # Teacher forcing - feeding the target as the next input\n",
        "    for t in range(1, targ.shape[1]): # Максимальная длина последовательности\n",
        "      # passing enc_output to the decoder\n",
        "      predictions, dec_hidden = decoder(dec_input, forward_hidden, backward_hidden)\n",
        "\n",
        "      # считаем лосс по каждому предсказанному слову\n",
        "      loss += loss_function(targ[:, t], predictions)\n",
        "\n",
        "      # using teacher forcing\n",
        "      dec_input = tf.expand_dims(targ[:, t], 1)\n",
        "\n",
        "  batch_loss = (loss / int(targ.shape[1]))\n",
        "\n",
        "  variables = encoder.trainable_variables + decoder.trainable_variables\n",
        "\n",
        "  gradients = tape.gradient(loss, variables)\n",
        "\n",
        "  optimizer.apply_gradients(zip(gradients, variables))\n",
        "\n",
        "  return batch_loss"
      ],
      "execution_count": 28,
      "outputs": []
    },
    {
      "cell_type": "code",
      "metadata": {
        "id": "ddefjBMa3jF0",
        "colab": {
          "base_uri": "https://localhost:8080/"
        },
        "outputId": "1e590ccd-b31a-4b24-9c63-82563050cab0"
      },
      "source": [
        "EPOCHS = 25\n",
        "\n",
        "for epoch in range(EPOCHS):\n",
        "  start = time.time()\n",
        "\n",
        "  enc_hidden = encoder.initialize_hidden_state()\n",
        "  total_loss = 0\n",
        "\n",
        "  for (batch, (inp, targ)) in enumerate(dataset.take(steps_per_epoch)):\n",
        "    batch_loss = train_step(inp, targ, enc_hidden)\n",
        "    total_loss += batch_loss\n",
        "\n",
        "    if batch % 100 == 0:\n",
        "      print('Epoch {} Batch {} Loss {:.4f}'.format(epoch + 1,\n",
        "                                                   batch,\n",
        "                                                   batch_loss.numpy()))\n",
        "  # saving (checkpoint) the model every 2 epochs\n",
        "  if (epoch + 1) % 2 == 0:\n",
        "    checkpoint.save(file_prefix = checkpoint_prefix)\n",
        "\n",
        "  print('Epoch {} Loss {:.4f}'.format(epoch + 1,\n",
        "                                      total_loss / steps_per_epoch))\n",
        "  print('Time taken for 1 epoch {} sec\\n'.format(time.time() - start))"
      ],
      "execution_count": 29,
      "outputs": [
        {
          "output_type": "stream",
          "name": "stdout",
          "text": [
            "Epoch 1 Batch 0 Loss 4.6058\n",
            "Epoch 1 Batch 100 Loss 1.9401\n",
            "Epoch 1 Batch 200 Loss 1.8288\n",
            "Epoch 1 Batch 300 Loss 1.5955\n",
            "Epoch 1 Batch 400 Loss 1.4846\n",
            "Epoch 1 Batch 500 Loss 1.3796\n",
            "Epoch 1 Batch 600 Loss 1.2177\n",
            "Epoch 1 Batch 700 Loss 1.1009\n",
            "Epoch 1 Batch 800 Loss 0.9974\n",
            "Epoch 1 Batch 900 Loss 1.0146\n",
            "Epoch 1 Batch 1000 Loss 1.0021\n",
            "Epoch 1 Batch 1100 Loss 0.9578\n",
            "Epoch 1 Batch 1200 Loss 0.8690\n",
            "Epoch 1 Loss 1.3089\n",
            "Time taken for 1 epoch 152.67664742469788 sec\n",
            "\n",
            "Epoch 2 Batch 0 Loss 0.6868\n",
            "Epoch 2 Batch 100 Loss 0.5465\n",
            "Epoch 2 Batch 200 Loss 0.6877\n",
            "Epoch 2 Batch 300 Loss 0.5463\n",
            "Epoch 2 Batch 400 Loss 0.5687\n",
            "Epoch 2 Batch 500 Loss 0.4779\n",
            "Epoch 2 Batch 600 Loss 0.5044\n",
            "Epoch 2 Batch 700 Loss 0.5208\n",
            "Epoch 2 Batch 800 Loss 0.5286\n",
            "Epoch 2 Batch 900 Loss 0.5048\n",
            "Epoch 2 Batch 1000 Loss 0.4817\n",
            "Epoch 2 Batch 1100 Loss 0.4086\n",
            "Epoch 2 Batch 1200 Loss 0.5229\n",
            "Epoch 2 Loss 0.5401\n",
            "Time taken for 1 epoch 133.98850917816162 sec\n",
            "\n",
            "Epoch 3 Batch 0 Loss 0.2739\n",
            "Epoch 3 Batch 100 Loss 0.2484\n",
            "Epoch 3 Batch 200 Loss 0.2725\n",
            "Epoch 3 Batch 300 Loss 0.3339\n",
            "Epoch 3 Batch 400 Loss 0.2241\n",
            "Epoch 3 Batch 500 Loss 0.2343\n",
            "Epoch 3 Batch 600 Loss 0.3009\n",
            "Epoch 3 Batch 700 Loss 0.2516\n",
            "Epoch 3 Batch 800 Loss 0.2316\n",
            "Epoch 3 Batch 900 Loss 0.2819\n",
            "Epoch 3 Batch 1000 Loss 0.2906\n",
            "Epoch 3 Batch 1100 Loss 0.3564\n",
            "Epoch 3 Batch 1200 Loss 0.3530\n",
            "Epoch 3 Loss 0.2863\n",
            "Time taken for 1 epoch 131.4831829071045 sec\n",
            "\n",
            "Epoch 4 Batch 0 Loss 0.1178\n",
            "Epoch 4 Batch 100 Loss 0.1442\n",
            "Epoch 4 Batch 200 Loss 0.1817\n",
            "Epoch 4 Batch 300 Loss 0.1598\n",
            "Epoch 4 Batch 400 Loss 0.1688\n",
            "Epoch 4 Batch 500 Loss 0.2262\n",
            "Epoch 4 Batch 600 Loss 0.1534\n",
            "Epoch 4 Batch 700 Loss 0.2180\n",
            "Epoch 4 Batch 800 Loss 0.2214\n",
            "Epoch 4 Batch 900 Loss 0.1543\n",
            "Epoch 4 Batch 1000 Loss 0.2162\n",
            "Epoch 4 Batch 1100 Loss 0.1637\n",
            "Epoch 4 Batch 1200 Loss 0.1775\n",
            "Epoch 4 Loss 0.1824\n",
            "Time taken for 1 epoch 137.19283509254456 sec\n",
            "\n",
            "Epoch 5 Batch 0 Loss 0.0983\n",
            "Epoch 5 Batch 100 Loss 0.0709\n",
            "Epoch 5 Batch 200 Loss 0.0929\n",
            "Epoch 5 Batch 300 Loss 0.1211\n",
            "Epoch 5 Batch 400 Loss 0.1440\n",
            "Epoch 5 Batch 500 Loss 0.1197\n",
            "Epoch 5 Batch 600 Loss 0.1684\n",
            "Epoch 5 Batch 700 Loss 0.1285\n",
            "Epoch 5 Batch 800 Loss 0.1236\n",
            "Epoch 5 Batch 900 Loss 0.1570\n",
            "Epoch 5 Batch 1000 Loss 0.0935\n",
            "Epoch 5 Batch 1100 Loss 0.1700\n",
            "Epoch 5 Batch 1200 Loss 0.1718\n",
            "Epoch 5 Loss 0.1393\n",
            "Time taken for 1 epoch 131.20837140083313 sec\n",
            "\n",
            "Epoch 6 Batch 0 Loss 0.1298\n",
            "Epoch 6 Batch 100 Loss 0.0808\n",
            "Epoch 6 Batch 200 Loss 0.0793\n",
            "Epoch 6 Batch 300 Loss 0.1145\n",
            "Epoch 6 Batch 400 Loss 0.1139\n",
            "Epoch 6 Batch 500 Loss 0.1072\n",
            "Epoch 6 Batch 600 Loss 0.0977\n",
            "Epoch 6 Batch 700 Loss 0.1165\n",
            "Epoch 6 Batch 800 Loss 0.1388\n",
            "Epoch 6 Batch 900 Loss 0.1349\n",
            "Epoch 6 Batch 1000 Loss 0.1160\n",
            "Epoch 6 Batch 1100 Loss 0.1223\n",
            "Epoch 6 Batch 1200 Loss 0.1172\n",
            "Epoch 6 Loss 0.1176\n",
            "Time taken for 1 epoch 137.25478887557983 sec\n",
            "\n",
            "Epoch 7 Batch 0 Loss 0.0847\n",
            "Epoch 7 Batch 100 Loss 0.0919\n",
            "Epoch 7 Batch 200 Loss 0.1145\n",
            "Epoch 7 Batch 300 Loss 0.0928\n",
            "Epoch 7 Batch 400 Loss 0.0898\n",
            "Epoch 7 Batch 500 Loss 0.1242\n",
            "Epoch 7 Batch 600 Loss 0.1043\n",
            "Epoch 7 Batch 700 Loss 0.0830\n",
            "Epoch 7 Batch 800 Loss 0.1229\n",
            "Epoch 7 Batch 900 Loss 0.1240\n",
            "Epoch 7 Batch 1000 Loss 0.1296\n",
            "Epoch 7 Batch 1100 Loss 0.1152\n",
            "Epoch 7 Batch 1200 Loss 0.1288\n",
            "Epoch 7 Loss 0.1049\n",
            "Time taken for 1 epoch 131.91883516311646 sec\n",
            "\n",
            "Epoch 8 Batch 0 Loss 0.1233\n",
            "Epoch 8 Batch 100 Loss 0.0614\n",
            "Epoch 8 Batch 200 Loss 0.0515\n",
            "Epoch 8 Batch 300 Loss 0.0937\n",
            "Epoch 8 Batch 400 Loss 0.0331\n",
            "Epoch 8 Batch 500 Loss 0.1141\n",
            "Epoch 8 Batch 600 Loss 0.1220\n",
            "Epoch 8 Batch 700 Loss 0.1216\n",
            "Epoch 8 Batch 800 Loss 0.0948\n",
            "Epoch 8 Batch 900 Loss 0.0583\n",
            "Epoch 8 Batch 1000 Loss 0.1067\n",
            "Epoch 8 Batch 1100 Loss 0.1304\n",
            "Epoch 8 Batch 1200 Loss 0.1467\n",
            "Epoch 8 Loss 0.0967\n",
            "Time taken for 1 epoch 137.1093406677246 sec\n",
            "\n",
            "Epoch 9 Batch 0 Loss 0.0695\n",
            "Epoch 9 Batch 100 Loss 0.0952\n",
            "Epoch 9 Batch 200 Loss 0.0800\n",
            "Epoch 9 Batch 300 Loss 0.0730\n",
            "Epoch 9 Batch 400 Loss 0.1016\n",
            "Epoch 9 Batch 500 Loss 0.0902\n",
            "Epoch 9 Batch 600 Loss 0.0816\n",
            "Epoch 9 Batch 700 Loss 0.1078\n",
            "Epoch 9 Batch 800 Loss 0.0626\n",
            "Epoch 9 Batch 900 Loss 0.0671\n",
            "Epoch 9 Batch 1000 Loss 0.0826\n",
            "Epoch 9 Batch 1100 Loss 0.0979\n",
            "Epoch 9 Batch 1200 Loss 0.1140\n",
            "Epoch 9 Loss 0.0905\n",
            "Time taken for 1 epoch 131.14725732803345 sec\n",
            "\n",
            "Epoch 10 Batch 0 Loss 0.0512\n",
            "Epoch 10 Batch 100 Loss 0.0782\n",
            "Epoch 10 Batch 200 Loss 0.0549\n",
            "Epoch 10 Batch 300 Loss 0.0323\n",
            "Epoch 10 Batch 400 Loss 0.0534\n",
            "Epoch 10 Batch 500 Loss 0.0798\n",
            "Epoch 10 Batch 600 Loss 0.1162\n",
            "Epoch 10 Batch 700 Loss 0.1187\n",
            "Epoch 10 Batch 800 Loss 0.0826\n",
            "Epoch 10 Batch 900 Loss 0.1095\n",
            "Epoch 10 Batch 1000 Loss 0.0801\n",
            "Epoch 10 Batch 1100 Loss 0.1141\n",
            "Epoch 10 Batch 1200 Loss 0.0910\n",
            "Epoch 10 Loss 0.0841\n",
            "Time taken for 1 epoch 137.80696368217468 sec\n",
            "\n",
            "Epoch 11 Batch 0 Loss 0.0823\n",
            "Epoch 11 Batch 100 Loss 0.0453\n",
            "Epoch 11 Batch 200 Loss 0.0275\n",
            "Epoch 11 Batch 300 Loss 0.1076\n",
            "Epoch 11 Batch 400 Loss 0.0683\n",
            "Epoch 11 Batch 500 Loss 0.0584\n",
            "Epoch 11 Batch 600 Loss 0.0350\n",
            "Epoch 11 Batch 700 Loss 0.0978\n",
            "Epoch 11 Batch 800 Loss 0.0735\n",
            "Epoch 11 Batch 900 Loss 0.0627\n",
            "Epoch 11 Batch 1000 Loss 0.1385\n",
            "Epoch 11 Batch 1100 Loss 0.1264\n",
            "Epoch 11 Batch 1200 Loss 0.0757\n",
            "Epoch 11 Loss 0.0802\n",
            "Time taken for 1 epoch 131.0687174797058 sec\n",
            "\n",
            "Epoch 12 Batch 0 Loss 0.0807\n",
            "Epoch 12 Batch 100 Loss 0.0800\n",
            "Epoch 12 Batch 200 Loss 0.1198\n",
            "Epoch 12 Batch 300 Loss 0.0469\n",
            "Epoch 12 Batch 400 Loss 0.0419\n",
            "Epoch 12 Batch 500 Loss 0.0635\n",
            "Epoch 12 Batch 600 Loss 0.0680\n",
            "Epoch 12 Batch 700 Loss 0.0655\n",
            "Epoch 12 Batch 800 Loss 0.1125\n",
            "Epoch 12 Batch 900 Loss 0.0929\n",
            "Epoch 12 Batch 1000 Loss 0.0690\n",
            "Epoch 12 Batch 1100 Loss 0.1034\n",
            "Epoch 12 Batch 1200 Loss 0.0992\n",
            "Epoch 12 Loss 0.0772\n",
            "Time taken for 1 epoch 137.62633657455444 sec\n",
            "\n",
            "Epoch 13 Batch 0 Loss 0.0644\n",
            "Epoch 13 Batch 100 Loss 0.0520\n",
            "Epoch 13 Batch 200 Loss 0.0502\n",
            "Epoch 13 Batch 300 Loss 0.0587\n",
            "Epoch 13 Batch 400 Loss 0.0755\n",
            "Epoch 13 Batch 500 Loss 0.0547\n",
            "Epoch 13 Batch 600 Loss 0.0483\n",
            "Epoch 13 Batch 700 Loss 0.0935\n",
            "Epoch 13 Batch 800 Loss 0.0703\n",
            "Epoch 13 Batch 900 Loss 0.1114\n",
            "Epoch 13 Batch 1000 Loss 0.1031\n",
            "Epoch 13 Batch 1100 Loss 0.0838\n",
            "Epoch 13 Batch 1200 Loss 0.0924\n",
            "Epoch 13 Loss 0.0744\n",
            "Time taken for 1 epoch 130.95186352729797 sec\n",
            "\n",
            "Epoch 14 Batch 0 Loss 0.0719\n",
            "Epoch 14 Batch 100 Loss 0.0691\n",
            "Epoch 14 Batch 200 Loss 0.0496\n",
            "Epoch 14 Batch 300 Loss 0.0676\n",
            "Epoch 14 Batch 400 Loss 0.0551\n",
            "Epoch 14 Batch 500 Loss 0.0642\n",
            "Epoch 14 Batch 600 Loss 0.0832\n",
            "Epoch 14 Batch 700 Loss 0.0656\n",
            "Epoch 14 Batch 800 Loss 0.0391\n",
            "Epoch 14 Batch 900 Loss 0.0504\n",
            "Epoch 14 Batch 1000 Loss 0.0515\n",
            "Epoch 14 Batch 1100 Loss 0.0448\n",
            "Epoch 14 Batch 1200 Loss 0.0613\n",
            "Epoch 14 Loss 0.0710\n",
            "Time taken for 1 epoch 133.00697135925293 sec\n",
            "\n",
            "Epoch 15 Batch 0 Loss 0.0560\n",
            "Epoch 15 Batch 100 Loss 0.0581\n",
            "Epoch 15 Batch 200 Loss 0.0408\n",
            "Epoch 15 Batch 300 Loss 0.0464\n",
            "Epoch 15 Batch 400 Loss 0.0671\n",
            "Epoch 15 Batch 500 Loss 0.0779\n",
            "Epoch 15 Batch 600 Loss 0.0739\n",
            "Epoch 15 Batch 700 Loss 0.0629\n",
            "Epoch 15 Batch 800 Loss 0.0661\n",
            "Epoch 15 Batch 900 Loss 0.0539\n",
            "Epoch 15 Batch 1000 Loss 0.0606\n",
            "Epoch 15 Batch 1100 Loss 0.0543\n",
            "Epoch 15 Batch 1200 Loss 0.0890\n",
            "Epoch 15 Loss 0.0690\n",
            "Time taken for 1 epoch 131.076486825943 sec\n",
            "\n",
            "Epoch 16 Batch 0 Loss 0.0608\n",
            "Epoch 16 Batch 100 Loss 0.0248\n",
            "Epoch 16 Batch 200 Loss 0.1257\n",
            "Epoch 16 Batch 300 Loss 0.0542\n",
            "Epoch 16 Batch 400 Loss 0.0681\n",
            "Epoch 16 Batch 500 Loss 0.0663\n",
            "Epoch 16 Batch 600 Loss 0.0692\n",
            "Epoch 16 Batch 700 Loss 0.0317\n",
            "Epoch 16 Batch 800 Loss 0.0800\n",
            "Epoch 16 Batch 900 Loss 0.0908\n",
            "Epoch 16 Batch 1000 Loss 0.0999\n",
            "Epoch 16 Batch 1100 Loss 0.0665\n",
            "Epoch 16 Batch 1200 Loss 0.0824\n",
            "Epoch 16 Loss 0.0668\n",
            "Time taken for 1 epoch 141.55188417434692 sec\n",
            "\n",
            "Epoch 17 Batch 0 Loss 0.0635\n",
            "Epoch 17 Batch 100 Loss 0.0346\n",
            "Epoch 17 Batch 200 Loss 0.0399\n",
            "Epoch 17 Batch 300 Loss 0.0364\n",
            "Epoch 17 Batch 400 Loss 0.0842\n",
            "Epoch 17 Batch 500 Loss 0.0485\n",
            "Epoch 17 Batch 600 Loss 0.0779\n",
            "Epoch 17 Batch 700 Loss 0.0659\n",
            "Epoch 17 Batch 800 Loss 0.0706\n",
            "Epoch 17 Batch 900 Loss 0.0658\n",
            "Epoch 17 Batch 1000 Loss 0.0979\n",
            "Epoch 17 Batch 1100 Loss 0.0740\n",
            "Epoch 17 Batch 1200 Loss 0.1120\n",
            "Epoch 17 Loss 0.0644\n",
            "Time taken for 1 epoch 131.292001247406 sec\n",
            "\n",
            "Epoch 18 Batch 0 Loss 0.0825\n",
            "Epoch 18 Batch 100 Loss 0.0247\n",
            "Epoch 18 Batch 200 Loss 0.0628\n",
            "Epoch 18 Batch 300 Loss 0.0649\n",
            "Epoch 18 Batch 400 Loss 0.0410\n",
            "Epoch 18 Batch 500 Loss 0.0788\n",
            "Epoch 18 Batch 600 Loss 0.0453\n",
            "Epoch 18 Batch 700 Loss 0.0458\n",
            "Epoch 18 Batch 800 Loss 0.0705\n",
            "Epoch 18 Batch 900 Loss 0.0408\n",
            "Epoch 18 Batch 1000 Loss 0.0594\n",
            "Epoch 18 Batch 1100 Loss 0.0652\n",
            "Epoch 18 Batch 1200 Loss 0.0718\n",
            "Epoch 18 Loss 0.0631\n",
            "Time taken for 1 epoch 137.09762740135193 sec\n",
            "\n",
            "Epoch 19 Batch 0 Loss 0.0596\n",
            "Epoch 19 Batch 100 Loss 0.0294\n",
            "Epoch 19 Batch 200 Loss 0.0558\n",
            "Epoch 19 Batch 300 Loss 0.0337\n",
            "Epoch 19 Batch 400 Loss 0.0448\n",
            "Epoch 19 Batch 500 Loss 0.0592\n",
            "Epoch 19 Batch 600 Loss 0.0976\n",
            "Epoch 19 Batch 700 Loss 0.0531\n",
            "Epoch 19 Batch 800 Loss 0.0554\n",
            "Epoch 19 Batch 900 Loss 0.0530\n",
            "Epoch 19 Batch 1000 Loss 0.0728\n",
            "Epoch 19 Batch 1100 Loss 0.0705\n",
            "Epoch 19 Batch 1200 Loss 0.0835\n",
            "Epoch 19 Loss 0.0612\n",
            "Time taken for 1 epoch 131.18424892425537 sec\n",
            "\n",
            "Epoch 20 Batch 0 Loss 0.0496\n",
            "Epoch 20 Batch 100 Loss 0.0366\n",
            "Epoch 20 Batch 200 Loss 0.0307\n",
            "Epoch 20 Batch 300 Loss 0.0354\n",
            "Epoch 20 Batch 400 Loss 0.0537\n",
            "Epoch 20 Batch 500 Loss 0.0646\n",
            "Epoch 20 Batch 600 Loss 0.0523\n",
            "Epoch 20 Batch 700 Loss 0.0743\n",
            "Epoch 20 Batch 800 Loss 0.0797\n",
            "Epoch 20 Batch 900 Loss 0.0363\n",
            "Epoch 20 Batch 1000 Loss 0.0585\n",
            "Epoch 20 Batch 1100 Loss 0.0586\n",
            "Epoch 20 Batch 1200 Loss 0.0729\n",
            "Epoch 20 Loss 0.0601\n",
            "Time taken for 1 epoch 133.16250276565552 sec\n",
            "\n",
            "Epoch 21 Batch 0 Loss 0.0602\n",
            "Epoch 21 Batch 100 Loss 0.0481\n",
            "Epoch 21 Batch 200 Loss 0.0643\n",
            "Epoch 21 Batch 300 Loss 0.0427\n",
            "Epoch 21 Batch 400 Loss 0.0620\n",
            "Epoch 21 Batch 500 Loss 0.0615\n",
            "Epoch 21 Batch 600 Loss 0.0462\n",
            "Epoch 21 Batch 700 Loss 0.0545\n",
            "Epoch 21 Batch 800 Loss 0.0742\n",
            "Epoch 21 Batch 900 Loss 0.0910\n",
            "Epoch 21 Batch 1000 Loss 0.0331\n",
            "Epoch 21 Batch 1100 Loss 0.0443\n",
            "Epoch 21 Batch 1200 Loss 0.0763\n",
            "Epoch 21 Loss 0.0584\n",
            "Time taken for 1 epoch 131.062420129776 sec\n",
            "\n",
            "Epoch 22 Batch 0 Loss 0.0578\n",
            "Epoch 22 Batch 100 Loss 0.0313\n",
            "Epoch 22 Batch 200 Loss 0.0609\n",
            "Epoch 22 Batch 300 Loss 0.0404\n",
            "Epoch 22 Batch 400 Loss 0.0370\n",
            "Epoch 22 Batch 500 Loss 0.0666\n",
            "Epoch 22 Batch 600 Loss 0.0542\n",
            "Epoch 22 Batch 700 Loss 0.0515\n",
            "Epoch 22 Batch 800 Loss 0.0332\n",
            "Epoch 22 Batch 900 Loss 0.0487\n",
            "Epoch 22 Batch 1000 Loss 0.0979\n",
            "Epoch 22 Batch 1100 Loss 0.0881\n",
            "Epoch 22 Batch 1200 Loss 0.0582\n",
            "Epoch 22 Loss 0.0572\n",
            "Time taken for 1 epoch 141.9260356426239 sec\n",
            "\n",
            "Epoch 23 Batch 0 Loss 0.0181\n",
            "Epoch 23 Batch 100 Loss 0.0118\n",
            "Epoch 23 Batch 200 Loss 0.0427\n",
            "Epoch 23 Batch 300 Loss 0.1023\n",
            "Epoch 23 Batch 400 Loss 0.1088\n",
            "Epoch 23 Batch 500 Loss 0.0629\n",
            "Epoch 23 Batch 600 Loss 0.0549\n",
            "Epoch 23 Batch 700 Loss 0.0706\n",
            "Epoch 23 Batch 800 Loss 0.0680\n",
            "Epoch 23 Batch 900 Loss 0.0250\n",
            "Epoch 23 Batch 1000 Loss 0.0469\n",
            "Epoch 23 Batch 1100 Loss 0.0573\n",
            "Epoch 23 Batch 1200 Loss 0.0614\n",
            "Epoch 23 Loss 0.0562\n",
            "Time taken for 1 epoch 131.11729955673218 sec\n",
            "\n",
            "Epoch 24 Batch 0 Loss 0.0759\n",
            "Epoch 24 Batch 100 Loss 0.0537\n",
            "Epoch 24 Batch 200 Loss 0.0361\n",
            "Epoch 24 Batch 300 Loss 0.0480\n",
            "Epoch 24 Batch 400 Loss 0.0347\n",
            "Epoch 24 Batch 500 Loss 0.0507\n",
            "Epoch 24 Batch 600 Loss 0.0586\n",
            "Epoch 24 Batch 700 Loss 0.0966\n",
            "Epoch 24 Batch 800 Loss 0.0359\n",
            "Epoch 24 Batch 900 Loss 0.0324\n",
            "Epoch 24 Batch 1000 Loss 0.0637\n",
            "Epoch 24 Batch 1100 Loss 0.0466\n",
            "Epoch 24 Batch 1200 Loss 0.0759\n",
            "Epoch 24 Loss 0.0549\n",
            "Time taken for 1 epoch 137.4815330505371 sec\n",
            "\n",
            "Epoch 25 Batch 0 Loss 0.0436\n",
            "Epoch 25 Batch 100 Loss 0.0511\n",
            "Epoch 25 Batch 200 Loss 0.0476\n",
            "Epoch 25 Batch 300 Loss 0.0253\n",
            "Epoch 25 Batch 400 Loss 0.0389\n",
            "Epoch 25 Batch 500 Loss 0.0471\n",
            "Epoch 25 Batch 600 Loss 0.0321\n",
            "Epoch 25 Batch 700 Loss 0.0885\n",
            "Epoch 25 Batch 800 Loss 0.0518\n",
            "Epoch 25 Batch 900 Loss 0.0652\n",
            "Epoch 25 Batch 1000 Loss 0.0767\n",
            "Epoch 25 Batch 1100 Loss 0.0594\n",
            "Epoch 25 Batch 1200 Loss 0.0389\n",
            "Epoch 25 Loss 0.0533\n",
            "Time taken for 1 epoch 131.26489782333374 sec\n",
            "\n"
          ]
        }
      ]
    },
    {
      "cell_type": "markdown",
      "metadata": {
        "id": "mU3Ce8M6I3rz"
      },
      "source": [
        "## Translate\n",
        "\n",
        "* The evaluate function is similar to the training loop, except we don't use *teacher forcing* here. The input to the decoder at each time step is its previous predictions along with the hidden state and the encoder output.\n",
        "* Stop predicting when the model predicts the *end token*.\n",
        "* And store the *attention weights for every time step*.\n",
        "\n",
        "Note: The encoder output is calculated only once for one input."
      ]
    },
    {
      "cell_type": "code",
      "metadata": {
        "id": "EbQpyYs13jF_"
      },
      "source": [
        "def evaluate(sentence):\n",
        "  attention_plot = np.zeros((max_length_targ, max_length_inp))\n",
        "\n",
        "  sentence = preprocess_sentence(sentence)\n",
        "\n",
        "  inputs = [inp_lang.word_index[i] for i in sentence.split(' ')]\n",
        "  inputs = tf.keras.preprocessing.sequence.pad_sequences([inputs],\n",
        "                                                         maxlen=max_length_inp,\n",
        "                                                         padding='post')\n",
        "  inputs = tf.convert_to_tensor(inputs)\n",
        "\n",
        "  result = ''\n",
        "\n",
        "  hidden = [tf.zeros((1, units)) for i in range(2)]\n",
        "  enc_hidden = encoder(inputs, hidden)\n",
        "\n",
        "  forward_hidden, backward_hidden = enc_hidden\n",
        "\n",
        "  dec_input = tf.expand_dims([targ_lang.word_index['<start>']], 0)\n",
        "\n",
        "  for t in range(max_length_targ):\n",
        "    predictions, dec_hidden = decoder(dec_input, forward_hidden, backward_hidden)\n",
        "\n",
        "    # storing the attention weights to plot later on\n",
        "    predicted_id = tf.argmax(predictions[0]).numpy()\n",
        "    result += targ_lang.index_word[predicted_id] + ' '\n",
        "\n",
        "    if targ_lang.index_word[predicted_id] == '<end>':\n",
        "      return result, sentence\n",
        "\n",
        "    # the predicted ID is fed back into the model\n",
        "    dec_input = tf.expand_dims([predicted_id], 0)\n",
        "\n",
        "  return result, sentence"
      ],
      "execution_count": 30,
      "outputs": []
    },
    {
      "cell_type": "code",
      "metadata": {
        "id": "sl9zUHzg3jGI"
      },
      "source": [
        "def translate(sentence):\n",
        "  result, sentence = evaluate(sentence)\n",
        "\n",
        "  print('Input: %s' % (sentence))\n",
        "  print('Predicted translation: {}'.format(result))"
      ],
      "execution_count": 31,
      "outputs": []
    },
    {
      "cell_type": "markdown",
      "metadata": {
        "id": "n250XbnjOaqP"
      },
      "source": [
        "## Restore the latest checkpoint and test"
      ]
    },
    {
      "cell_type": "code",
      "metadata": {
        "id": "UJpT9D5_OgP6"
      },
      "source": [
        "#restoring the latest checkpoint in checkpoint_dir\n",
        "#checkpoint.restore(tf.train.latest_checkpoint(checkpoint_dir))"
      ],
      "execution_count": 34,
      "outputs": []
    },
    {
      "cell_type": "code",
      "metadata": {
        "id": "WrAM0FDomq3E",
        "colab": {
          "base_uri": "https://localhost:8080/"
        },
        "outputId": "b12feb76-87a6-487c-8cf3-addcdc861808"
      },
      "source": [
        "translate('Здесь хорошо.')"
      ],
      "execution_count": 35,
      "outputs": [
        {
          "output_type": "stream",
          "name": "stdout",
          "text": [
            "Input: <start> здесь хорошо . <end>\n",
            "Predicted translation: it's good here . <end> \n"
          ]
        }
      ]
    },
    {
      "cell_type": "code",
      "metadata": {
        "id": "5bhFfwcIMX5i",
        "colab": {
          "base_uri": "https://localhost:8080/"
        },
        "outputId": "dc1d7198-9eeb-44f6-bf7a-7c4a048d994d"
      },
      "source": [
        "translate('Я не смогу поехать.')"
      ],
      "execution_count": 36,
      "outputs": [
        {
          "output_type": "stream",
          "name": "stdout",
          "text": [
            "Input: <start> я не смогу поехать . <end>\n",
            "Predicted translation: i can't go . <end> \n"
          ]
        }
      ]
    },
    {
      "cell_type": "code",
      "metadata": {
        "id": "zSx2iM36EZQZ",
        "colab": {
          "base_uri": "https://localhost:8080/"
        },
        "outputId": "b77219bb-2172-4870-b589-43ebb5ad945a"
      },
      "source": [
        "translate(u'Вы еще дома?')"
      ],
      "execution_count": 37,
      "outputs": [
        {
          "output_type": "stream",
          "name": "stdout",
          "text": [
            "Input: <start> вы еще дома ? <end>\n",
            "Predicted translation: are you still home ? <end> \n"
          ]
        }
      ]
    },
    {
      "cell_type": "code",
      "metadata": {
        "id": "A3LLCx3ZE0Ls",
        "colab": {
          "base_uri": "https://localhost:8080/"
        },
        "outputId": "b588898d-302f-4884-9039-790f233d60c8"
      },
      "source": [
        "translate(u'Вы всё еще дома?')"
      ],
      "execution_count": 38,
      "outputs": [
        {
          "output_type": "stream",
          "name": "stdout",
          "text": [
            "Input: <start> вы вс еще дома ? <end>\n",
            "Predicted translation: are you still home ? <end> \n"
          ]
        }
      ]
    },
    {
      "cell_type": "code",
      "metadata": {
        "id": "DUQVLVqUE1YW",
        "colab": {
          "base_uri": "https://localhost:8080/"
        },
        "outputId": "fd849e97-14bd-4f84-f99e-927e7b8b6ee2"
      },
      "source": [
        "translate(u'Попробуй сделать это.')"
      ],
      "execution_count": 39,
      "outputs": [
        {
          "output_type": "stream",
          "name": "stdout",
          "text": [
            "Input: <start> попробуй сделать это . <end>\n",
            "Predicted translation: try to do it . <end> \n"
          ]
        }
      ]
    },
    {
      "cell_type": "code",
      "metadata": {
        "id": "f09_hUFx9EJh",
        "colab": {
          "base_uri": "https://localhost:8080/"
        },
        "outputId": "4108d27f-3028-4ca2-e9cd-741936082208"
      },
      "source": [
        "translate(u'Я люблю, когда идет снег.')"
      ],
      "execution_count": 40,
      "outputs": [
        {
          "output_type": "stream",
          "name": "stdout",
          "text": [
            "Input: <start> я люблю , когда идет снег . <end>\n",
            "Predicted translation: i like when it rains . <end> \n"
          ]
        }
      ]
    },
    {
      "cell_type": "code",
      "metadata": {
        "id": "e7c5p8rmkHQG",
        "colab": {
          "base_uri": "https://localhost:8080/"
        },
        "outputId": "3893ad52-c6b2-42f0-e81a-add4addce9af"
      },
      "source": [
        "translate(u'Я никогда такого не делаю.')"
      ],
      "execution_count": 41,
      "outputs": [
        {
          "output_type": "stream",
          "name": "stdout",
          "text": [
            "Input: <start> я никогда такого не делаю . <end>\n",
            "Predicted translation: i never do that . <end> \n"
          ]
        }
      ]
    },
    {
      "cell_type": "code",
      "source": [
        "translate('Я хочу поехать в отпуск.')"
      ],
      "metadata": {
        "colab": {
          "base_uri": "https://localhost:8080/"
        },
        "id": "TxGkYLKgA33D",
        "outputId": "046babb5-e464-43e8-b5ce-08c188be8bf0"
      },
      "execution_count": 42,
      "outputs": [
        {
          "output_type": "stream",
          "name": "stdout",
          "text": [
            "Input: <start> я хочу поехать в отпуск . <end>\n",
            "Predicted translation: i want to go to go to go to go to \n"
          ]
        }
      ]
    },
    {
      "cell_type": "code",
      "source": [
        "translate('Я тебя люблю')"
      ],
      "metadata": {
        "colab": {
          "base_uri": "https://localhost:8080/"
        },
        "id": "uZbjLtv2BwGZ",
        "outputId": "aeb4a778-87ca-483b-b52d-7a43e65dfedf"
      },
      "execution_count": 43,
      "outputs": [
        {
          "output_type": "stream",
          "name": "stdout",
          "text": [
            "Input: <start> я тебя люблю <end>\n",
            "Predicted translation: i love you . <end> \n"
          ]
        }
      ]
    },
    {
      "cell_type": "code",
      "source": [
        "translate('У меня есть собака')"
      ],
      "metadata": {
        "colab": {
          "base_uri": "https://localhost:8080/"
        },
        "id": "EsB5BRQdBTKD",
        "outputId": "64cbc6f1-e09e-4ef0-9f1d-2ca45570a573"
      },
      "execution_count": 44,
      "outputs": [
        {
          "output_type": "stream",
          "name": "stdout",
          "text": [
            "Input: <start> у меня есть собака <end>\n",
            "Predicted translation: i have a dog . <end> \n"
          ]
        }
      ]
    },
    {
      "cell_type": "code",
      "source": [
        "translate('Как у тебя дела?')"
      ],
      "metadata": {
        "colab": {
          "base_uri": "https://localhost:8080/"
        },
        "id": "2xJPd5a2C_Ov",
        "outputId": "d4e08670-3490-40b1-c83f-23970e5d52df"
      },
      "execution_count": 45,
      "outputs": [
        {
          "output_type": "stream",
          "name": "stdout",
          "text": [
            "Input: <start> как у тебя дела ? <end>\n",
            "Predicted translation: how are you ? <end> \n"
          ]
        }
      ]
    },
    {
      "cell_type": "code",
      "source": [
        "translate('Жизнь прекрасна')"
      ],
      "metadata": {
        "colab": {
          "base_uri": "https://localhost:8080/"
        },
        "id": "ZBcSHjAC2hyI",
        "outputId": "1348bbcf-a900-454d-f21d-2b6827cd25dc"
      },
      "execution_count": 46,
      "outputs": [
        {
          "output_type": "stream",
          "name": "stdout",
          "text": [
            "Input: <start> жизнь прекрасна <end>\n",
            "Predicted translation: life is wonderful . <end> \n"
          ]
        }
      ]
    },
    {
      "cell_type": "code",
      "source": [
        "translate(u'Когда у тебя день рождения?')"
      ],
      "metadata": {
        "colab": {
          "base_uri": "https://localhost:8080/"
        },
        "id": "DhRnaJOG25_m",
        "outputId": "c2106ca7-d648-4563-d741-761f4cd8a06c"
      },
      "execution_count": 47,
      "outputs": [
        {
          "output_type": "stream",
          "name": "stdout",
          "text": [
            "Input: <start> когда у тебя день рождения ? <end>\n",
            "Predicted translation: when is your day ? <end> \n"
          ]
        }
      ]
    },
    {
      "cell_type": "code",
      "source": [],
      "metadata": {
        "id": "oQkpI2M-6d5m"
      },
      "execution_count": null,
      "outputs": []
    },
    {
      "cell_type": "markdown",
      "source": [
        "В целом не так плохо, кажется, что перевод получается лучше, чем если брать сеть с однонаправленным gru."
      ],
      "metadata": {
        "id": "Reh7_D9w5Ab6"
      }
    }
  ]
}